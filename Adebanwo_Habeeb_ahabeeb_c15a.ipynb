{
 "cells": [
  {
   "cell_type": "markdown",
   "id": "1c9f5374",
   "metadata": {},
   "source": [
    "# IMPORT RELEVANT LIBRARIES"
   ]
  },
  {
   "cell_type": "code",
   "execution_count": 1,
   "id": "e5926fa3",
   "metadata": {},
   "outputs": [],
   "source": [
    "import datetime\n",
    "from datetime import time\n",
    "import pandas as pd\n",
    "import ipywidgets as widgets\n",
    "import winsound\n",
    "import tkinter\n",
    "from tkinter import messagebox"
   ]
  },
  {
   "cell_type": "markdown",
   "id": "7ce4192f",
   "metadata": {},
   "source": [
    "# FUNCTION TO GET DATE FROM USER"
   ]
  },
  {
   "cell_type": "code",
   "execution_count": 2,
   "id": "9153c1c6",
   "metadata": {},
   "outputs": [],
   "source": [
    "def getDate():\n",
    "    localtz = input('provide the date you want to convert in this format; YYYY, MM, DD, HH, mm: ')\n",
    "    trimTime = ''.join(localtz.split()) # removing any white spaces in user input. First split string by white spaces\n",
    "    timeParts = trimTime.split(',')# spliting user time input by commas\n",
    "    # extracting time parts and converting to integers since user input is always a string\n",
    "    yyyy = int(timeParts[0])\n",
    "    mm = int(timeParts[1])  \n",
    "    dd = int(timeParts[2])\n",
    "    hh = int(timeParts[3])\n",
    "    m = int(timeParts[4])\n",
    "    dt2 = datetime.datetime(yyyy,mm,dd,hh,m) # converting to a datetime format\n",
    "    return dt2"
   ]
  },
  {
   "cell_type": "markdown",
   "id": "f076ff1b",
   "metadata": {},
   "source": [
    "FUNCTION TO GET USER SYSYTEM DATE AND TIME"
   ]
  },
  {
   "cell_type": "code",
   "execution_count": 3,
   "id": "06864be1",
   "metadata": {},
   "outputs": [],
   "source": [
    "def currTimeLong():\n",
    "    today = datetime.datetime.now()\n",
    "    return today"
   ]
  },
  {
   "cell_type": "markdown",
   "id": "db83f16d",
   "metadata": {},
   "source": [
    "# TIME ZONE DICTIONARY"
   ]
  },
  {
   "cell_type": "code",
   "execution_count": 4,
   "id": "b101016d",
   "metadata": {},
   "outputs": [],
   "source": [
    "tz = {'Australian Central Daylight Savings Time': 10.30, 'Australian Central Standard Time': 09.30,'Acre Time': -5,\n",
    "'ASEAN Common Time': 06.30, 'Atlantic Daylight Time': -3, 'Australian Eastern Daylight Savings Time': 11,\n",
    "'Australian Eastern Standard Time' : 10, 'Afghanistan Time': 04.30, 'Alaska Daylight Time': -8, 'Alaska Standard Time':-9,\n",
    "'Amazon Summer Time' : -3, 'Amazon Time': -4, 'Armenia Time': 4, 'Argentina Time': -3, 'Arabia Standard Time' : 3,\n",
    "'Atlantic Standard Time': -4, 'Australian Western Standard Time': 8, 'Azores Summer Time': 0, 'Azores Standard Time': -1,\n",
    "'Azerbaijan Time': 4, 'Brunei Time': 8, 'British Indian Ocean Time': 6, 'Baker Island Time': -12, 'Bolivia Time': -4,\n",
    "'Brasilia Summer Time': -2, 'Brasilia Time': -3, 'Bangladesh Standard Time': 6, 'Bougainville Standard Time': 11,\n",
    "'British Summer Time': 1, 'Bhutan Time': 6, 'Central Africa Time': 2, 'Cocos Islands Time': 06.30, 'Central Daylight Time': -5,\n",
    "'Cuba Daylight Time': -4, 'Central European Summer Time': 2, 'Central European Time': 1, 'Chatham Daylight Time': 13.45,\n",
    "'Chatham Standard Time': 12.45, 'Choibalsan Standard Time': 8, 'Choibalsan Summer Time': 9, 'Chamorro Standard Time': 10,\n",
    "'Chuuk Time': 10, 'Clipperton Island Standard Time': -8, 'Central Indonesia Time': 8, 'Cook Island Time': -10, \n",
    "'Chile Summer Time':-3, 'Chile Standard Time': -4,'Colombia Summer Time': -4, 'Colombia Time': -5,'Central Standard Time': -6,\n",
    "'China Standard Time': 8, 'Central Standard Time': 09.30, 'Central Summer Time' : 10.30,'Cuba Standard Time': -5,\n",
    "'China time': 8, 'Cape Verde Time': -1, 'Central Western Standard Time (Australia)': 08.45, 'Christmas Island Time': 7,\n",
    "'Davis Time': 7, \"Dumont d'Urville Time\": 10, 'AIX specific equivalent of Central European Time': 1,\n",
    "'Easter Island Summer Time': -5, 'Easter Island Standard Time': -6, 'East Africa Time': 3,'Eastern Caribbean Time': -4,\n",
    "'Ecuador Time': -5, 'Eastern Daylight Time (North America)': -4, 'Eastern Summer Time (Australia)': 11,\n",
    "'Eastern European Summer Time': 3, 'Eastern European Time': 2, 'Eastern Greenland Summer Time': 0,\n",
    "'Eastern Greenland Time': -1, 'Eastern Indonesian Time': 9, 'Eastern Standard Time (North America)': -5,\n",
    "'Eastern Standard Time (Australia)': 10, 'Further-eastern European Time': 3, 'Fiji Time': 12, 'Falkland Islands Summer Time': -3,\n",
    "'Falkland Islands Time': -4, 'Fernando de Noronha Time': -2, 'Galapagos Time': -6, 'Gambier Islands': -9,\n",
    "'Georgia Standard Time': 4, 'French Guiana Time':-3, 'Gilbert Island Time': 12, 'Gambier Island Time': -9,\n",
    "'Greenwich Mean Time': 0, 'South Georgia and the South Sandwich Islands': -2, 'Gulf Standard Time': 4, 'Guyana Time': -4,\n",
    "'Hawaii-Aleutian Daylight Time': -9, \"Heure AvancÃ©e d'Europe Centrale francised\": 2, 'Hawaii-Aleutian Standard Time': -10,\n",
    "'Hong Kong Time': 8, 'Heard and McDonald Islands Time': 5, 'Khovd Summer Time': 8, 'Khovd Standard Time': 7,'Indochina Time': 7,\n",
    "'Israel Daylight Time': 3, 'Indian Ocean Time': 3, 'Iran Daylight Time': 04.30, 'Irkutsk Time': 8,\n",
    "'Iran Standard Time': 03.30, 'Indian Standard Time': 05.30, 'Irish Standard Time': 1,\n",
    "'Israel Standard Time': 2, 'Japan Standard Time': 9, 'Kyrgyzstan time': 6, 'Kosrae Time': 11, 'Krasnoyarsk Time': 7,\n",
    "'Korea Standard Time': 9, 'Lord Howe Standard Time': 10.30, 'Lord Howe Summer Time': 11, 'Line Islands Time': 14,\n",
    "'Magadan Time': 12, 'Marquesas Islands Time': -9.30, 'Mawson Station Time': 5,\n",
    "'Mountain Daylight Time (North America)': -6, 'Middle European Time Same zone': 1, 'Middle European Summer Time Same zone' : 2,\n",
    "'Marshall Islands': 12, 'Macquarie Island Station Time': 11, 'Marquesas Islands Time': -9.30,\n",
    "'Myanmar Standard Time': 06.30, 'Moscow Time': 3, 'Malaysia Standard Time': 8, 'Mountain Standard Time': -7, 'Mauritius Time': 4,\n",
    "'Maldives Time': 5,'Malaysia Time': 8, 'New Caledonia Time': 11,'Newfoundland Daylight Time': -3.30, 'Norfolk Time': 11,\n",
    "'Nepal Time': 05.45, 'Newfoundland Standard Time':-3.30 , 'Newfoundland Time': -3.30, 'Niue Time': -11,\n",
    "'New Zealand Daylight Time': 13, 'New Zealand Standard Time': 12, 'Omsk Time': 6, 'Oral Time': 5, \n",
    "'Pacific Daylight Time (North America)': -7, 'Peru Time': -5, 'Kamchatka Time': 12, 'Papua New Guinea Time': 10,\n",
    "'Phoenix Island Time': 13, 'Philippine Time': 8, 'Pakistan Standard Time': 5,\n",
    "'Saint Pierre and Miquelon Daylight time': -2, 'Saint Pierre and Miquelon Standard Time': -3, 'Pohnpei Standard Time': 11,\n",
    "'Pacific Standard Time (North America)': -8, 'Philippine Standard Time': 8, 'Paraguay Summer Time (South America)': -3,\n",
    "'Paraguay Time (South America)': -4, 'RÃ©union Time': 4,'Rothera Research Station Time': -3, 'Sakhalin Island time': 11,\n",
    "'Samara Time': 4, 'South African Standard Time': 2, 'Solomon Islands Time': 11,'Seychelles Time': 4, 'Singapore Time': 8,\n",
    "'Sri Lanka Standard Time': 05.30, 'Srednekolymsk Time': 11, 'Suriname Time': -3, 'Samoa Standard Time': -11,\n",
    "'Singapore Standard Time': 8, 'Showa Station Time': 3,'Tahiti Time': -10, 'Thailand Standard Time': 7, 'Indian/Kerguelen': 5,\n",
    "'Tajikistan Time': 5, 'Tokelau Time': 13, 'Timor Leste Time': 9, 'Turkmenistan Time': 5, 'Turkey Time': 3,\n",
    "'Tonga Time': 13, 'Tuvalu Time': 12, 'Ulaanbaatar Summer Time': 9, 'Ulaanbaatar Standard Time': 8,'Kaliningrad Time': 2,\n",
    "'Coordinated Universal Time': 0,'Uruguay Summer Time': -2, 'Uruguay Standard Time': -3, 'Uzbekistan Time': 5,\n",
    "'Venezuelan Standard Time': -4, 'Vladivostok Time': 10, 'Volgograd Time': 4, 'Vostok Station Time': 6, 'Vanuatu Time': 11,\n",
    "'Wake Island Time': 12, 'West Africa Summer Time': 2,\n",
    "'West Africa Time': 1, 'Western European Summer Time': 1, 'Western European Time': 0, 'Western Indonesian Time': 7,\n",
    "'Western Standard Time': 8, 'Yakutsk Time': 9, 'Yekaterinburg Time': 5}"
   ]
  },
  {
   "cell_type": "code",
   "execution_count": 5,
   "id": "8c789b5a",
   "metadata": {},
   "outputs": [],
   "source": [
    "tzList = list(tz.keys())"
   ]
  },
  {
   "cell_type": "markdown",
   "id": "f468463f",
   "metadata": {},
   "source": [
    "# TIME  CONVERTER BY TIME ZONE"
   ]
  },
  {
   "cell_type": "code",
   "execution_count": 6,
   "id": "bb6c69a2",
   "metadata": {
    "scrolled": true
   },
   "outputs": [
    {
     "name": "stdout",
     "output_type": "stream",
     "text": [
      "provide the date you want to convert in this format; YYYY, MM, DD, HH, mm: 2022, 09, 10,16,00\n"
     ]
    },
    {
     "data": {
      "application/vnd.jupyter.widget-view+json": {
       "model_id": "1e4a6baf3ae94a5dbaf248714dc4c8df",
       "version_major": 2,
       "version_minor": 0
      },
      "text/plain": [
       "Label(value='Please select your Time zone you are converting from:')"
      ]
     },
     "metadata": {},
     "output_type": "display_data"
    },
    {
     "data": {
      "application/vnd.jupyter.widget-view+json": {
       "model_id": "b4cba3c45b974be0b6198c63ade07331",
       "version_major": 2,
       "version_minor": 0
      },
      "text/plain": [
       "Dropdown(options=('Australian Central Daylight Savings Time', 'Australian Central Standard Time', 'Acre Time',…"
      ]
     },
     "metadata": {},
     "output_type": "display_data"
    },
    {
     "data": {
      "application/vnd.jupyter.widget-view+json": {
       "model_id": "506212ebfaa04d67a0eb8baae3e2991c",
       "version_major": 2,
       "version_minor": 0
      },
      "text/plain": [
       "Label(value='Please select the Time zone you are converting to:')"
      ]
     },
     "metadata": {},
     "output_type": "display_data"
    },
    {
     "data": {
      "application/vnd.jupyter.widget-view+json": {
       "model_id": "93cbd027fd9641e99a07ec0864103a9e",
       "version_major": 2,
       "version_minor": 0
      },
      "text/plain": [
       "Dropdown(options=('Australian Central Daylight Savings Time', 'Australian Central Standard Time', 'Acre Time',…"
      ]
     },
     "metadata": {},
     "output_type": "display_data"
    },
    {
     "data": {
      "application/vnd.jupyter.widget-view+json": {
       "model_id": "13b4891e1e2a4a88ab3ce124a35407be",
       "version_major": 2,
       "version_minor": 0
      },
      "text/plain": [
       "Label(value='')"
      ]
     },
     "metadata": {},
     "output_type": "display_data"
    },
    {
     "data": {
      "application/vnd.jupyter.widget-view+json": {
       "model_id": "45e01e7882fb496aa9c99c05a3e61279",
       "version_major": 2,
       "version_minor": 0
      },
      "text/plain": [
       "Button(description='convert', style=ButtonStyle())"
      ]
     },
     "metadata": {},
     "output_type": "display_data"
    },
    {
     "name": "stdout",
     "output_type": "stream",
     "text": [
      "the equivalent time of 2022-09-10 16:00:00 Amazon Time is 2022-09-10 19:00:00 Azores Standard Time\n"
     ]
    }
   ],
   "source": [
    "def tzconverter(sourceTz, tgtTz, bootCampt):\n",
    "    \n",
    "    if sourceTz in list(tz.keys()) and tgtTz in list(tz.keys()):\n",
    "        tzEquiv = float(tz[sourceTz])\n",
    "        utcEquiv = bootCampt - pd.DateOffset(hours=tzEquiv)\n",
    "        desTz = utcEquiv + pd.DateOffset(hours=tz[tgtTz])\n",
    "        \n",
    "        return desTz\n",
    "\n",
    "bootCampt = getDate()\n",
    " \n",
    "\n",
    "lbl1 = widgets.Label('Please select your Time zone you are converting from:')\n",
    "display(lbl1)\n",
    "sourceTz = widgets.Dropdown(\n",
    " options=tzList,\n",
    " #options=['1', '2', '3'],\n",
    " value='Australian Central Daylight Savings Time',\n",
    " description='',\n",
    " disabled=False,\n",
    ")\n",
    "display(sourceTz)\n",
    "\n",
    "lbl2 = widgets.Label('Please select the Time zone you are converting to:')\n",
    "display(lbl2)\n",
    "tgtTz = widgets.Dropdown(\n",
    " options=tzList,\n",
    " #options=['1', '2', '3'],\n",
    " value='Australian Central Daylight Savings Time',\n",
    " description='',\n",
    " disabled=False,\n",
    ")\n",
    "display(tgtTz)\n",
    "\n",
    "lblBlank = widgets.Label()\n",
    "display(lblBlank)\n",
    "btn = widgets.Button(description='convert')\n",
    "display(btn)\n",
    "def pp(b):\n",
    "    timeConverter =  tzconverter(sourceTz.value, tgtTz.value, bootCampt)\n",
    "    print(f'the equivalent time of {bootCampt} {sourceTz.value} is {timeConverter} {tgtTz.value}')\n",
    " \n",
    " \n",
    "btn.on_click(pp)"
   ]
  },
  {
   "cell_type": "markdown",
   "id": "209d64e1",
   "metadata": {},
   "source": [
    "# COUNTRY AND OFFSET DICTIONARY"
   ]
  },
  {
   "cell_type": "code",
   "execution_count": 14,
   "id": "d5f0e9e1",
   "metadata": {},
   "outputs": [],
   "source": [
    "countryDict = {'Africa/Abidjan':0,'Africa/Accra':0,'Africa/Addis_Ababa':10800,'Africa/Algiers':3600,'Africa/Asmara':10800,'Africa/Asmera':10800,'Africa/Bamako':0,'Africa/Bangui':3600,'Africa/Banjul':0,'Africa/Bissau':0,'Africa/Blantyre':7200,'Africa/Brazzaville':3600,'Africa/Bujumbura':7200,'Africa/Cairo':7200,'Africa/Casablanca':0,'Africa/Ceuta':3600,'Africa/Conakry':0,'Africa/Dakar':0,'Africa/Dar_es_Salaam':10800,'Africa/Djibouti':10800,'Africa/Douala':3600,'Africa/El_Aaiun':0,'Africa/Freetown':0,'Africa/Gaborone':7200,'Africa/Harare':7200,'Africa/Johannesburg':7200,'Africa/Juba':10800,'Africa/Kampala':10800,'Africa/Khartoum':10800,'Africa/Kigali':7200,'Africa/Kinshasa':3600,'Africa/Lagos':3600,'Africa/Libreville':3600,'Africa/Lome':0,'Africa/Luanda':3600,'Africa/Lubumbashi':7200,'Africa/Lusaka':7200,'Africa/Malabo':3600,'Africa/Maputo':7200,'Africa/Maseru':7200,'Africa/Mbabane':7200,'Africa/Mogadishu':10800,'Africa/Monrovia':0,'Africa/Nairobi':10800,'Africa/Ndjamena':3600,'Africa/Niamey':3600,'Africa/Nouakchott':0,'Africa/Ouagadougou':0,'Africa/Porto-Novo':3600,'Africa/Sao_Tome':0,'Africa/Timbuktu':0,\n",
    "'Africa/Tripoli':7200,'Africa/Tunis':3600,'Africa/Windhoek':3600,'America/Adak':-36000,'America/Anchorage':-32400,'America/Anguilla':-14400,'America/Antigua':-14400,'America/Araguaina':-10800,'America/Argentina/Buenos_Aires':-10800,'America/Argentina/Catamarca':-10800,'America/Argentina/ComodRivadavia':-10800,'America/Argentina/Cordoba':-10800,'America/Argentina/Jujuy':-10800,'America/Argentina/La_Rioja':-10800,'America/Argentina/Mendoza':-10800,'America/Argentina/Rio_Gallegos':-10800,'America/Argentina/Salta':-10800,'America/Argentina/San_Juan':-10800,'America/Argentina/San_Luis':-10800,'America/Argentina/Tucuman':-10800,'America/Argentina/Ushuaia':-10800,'America/Aruba':-14400,'America/Asuncion':-10800,'America/Atikokan':-18000,'America/Atka':-36000,'America/Bahia':-10800,'America/Bahia_Banderas':-21600,'America/Barbados':-14400,'America/Belem':-10800,'America/Belize':-21600,'America/Blanc-Sablon':-14400,'America/Boa_Vista':-14400,'America/Bogota':-18000,'America/Boise':-25200,'America/Buenos_Aires':-10800,'America/Cambridge_Bay':-25200,'America/Campo_Grande':-14400,'America/Cancun':-18000,'America/Caracas':-16200,'America/Catamarca':-10800,'America/Cayenne':-10800,'America/Cayman':-18000,'America/Chicago':-21600,'America/Chihuahua':-25200,'America/Coral_Harbour':-18000,'America/Cordoba':-10800,'America/Costa_Rica':-21600,'America/Creston':-25200,'America/Cuiaba':-14400,'America/Curacao':-14400,\n",
    "'America/Danmarkshavn':0,'America/Dawson':-28800,'America/Dawson_Creek':-25200,'America/Denver':-25200,'America/Detroit':-18000,'America/Dominica':-14400,'America/Edmonton':-25200,'America/Eirunepe':-18000,'America/El_Salvador':-21600,'America/Ensenada':-28800,'America/Fort_Nelson':-25200,'America/Fort_Wayne':-18000,'America/Fortaleza':-10800,'America/Glace_Bay':-14400,'America/Godthab':-10800,'America/Goose_Bay':-14400,'America/Grand_Turk':-14400,'America/Grenada':-14400,'America/Guadeloupe':-14400,'America/Guatemala':-21600,'America/Guayaquil':-18000,'America/Guyana':-14400,'America/Halifax':-14400,'America/Havana':-18000,'America/Hermosillo':-25200,'America/Indiana/Indianapolis':-18000,'America/Indiana/Knox':-21600,'America/Indiana/Marengo':-18000,'America/Indiana/Petersburg':-18000,'America/Indiana/Tell_City':-21600,'America/Indiana/Vevay':-18000,'America/Indiana/Vincennes':-18000,'America/Indiana/Winamac':-18000,'America/Indianapolis':-18000,'America/Inuvik':-25200,'America/Iqaluit':-18000,'America/Jamaica':-18000,'America/Jujuy':-10800,'America/Juneau':-32400,'America/Kentucky/Louisville':-18000,'America/Kentucky/Monticello':-18000,'America/Knox_IN':-21600,'America/Kralendijk':-14400,'America/La_Paz':-14400,'America/Lima':-18000,'America/Los_Angeles':-28800,'America/Louisville':-18000,'America/Lower_Princes':-14400,'America/Maceio':-10800,'America/Managua':-21600,'America/Manaus':-14400,\n",
    "'America/Marigot':-14400,'America/Martinique':-14400,'America/Matamoros':-21600,'America/Mazatlan':-25200,'America/Mendoza':-10800,'America/Menominee':-21600,'America/Merida':-21600,'America/Metlakatla':-28800,'America/Mexico_City':-21600,'America/Miquelon':-10800,'America/Moncton':-14400,'America/Monterrey':-21600,'America/Montevideo':-10800,'America/Montreal':-18000,'America/Montserrat':-14400,'America/Nassau':-18000,'America/New_York':-18000,'America/Nipigon':-18000,'America/Nome':-32400,'America/Noronha':-7200,'America/North_Dakota/Beulah':-21600,'America/North_Dakota/Center':-21600,'America/North_Dakota/New_Salem':-21600,'America/Ojinaga':-25200,'America/Panama':-18000,'America/Pangnirtung':-18000,'America/Paramaribo':-10800,'America/Phoenix':-25200,'America/Port-au-Prince':-18000,'America/Port_of_Spain':-14400,'America/Porto_Acre':-18000,'America/Porto_Velho':-14400,'America/Puerto_Rico':-14400,'America/Rainy_River':-21600,'America/Rankin_Inlet':-21600,'America/Recife':-10800,'America/Regina':-21600,'America/Resolute':-21600,'America/Rio_Branco':-18000,'America/Rosario':-10800,'America/Santa_Isabel':-28800,'America/Santarem':-10800,'America/Santiago':-10800,'America/Santo_Domingo':-14400,'America/Sao_Paulo':-10800,'America/Scoresbysund':-3600,'America/Shiprock':-25200,'America/Sitka':-32400,'America/St_Barthelemy':-14400,'America/St_Johns':-12600,'America/St_Kitts':-14400,\n",
    "'America/St_Lucia':-14400,'America/St_Thomas':-14400,'America/St_Vincent':-14400,'America/Swift_Current':-21600,'America/Tegucigalpa':-21600,'America/Thule':-14400,'America/Thunder_Bay':-18000,'America/Tijuana':-28800,'America/Toronto':-18000,'America/Tortola':-14400,'America/Vancouver':-28800,'America/Virgin':-14400,'America/Whitehorse':-28800,'America/Winnipeg':-21600,'America/Yakutat':-32400,'America/Yellowknife':-25200,'Antarctica/Casey':28800,'Antarctica/Davis':25200,'Antarctica/DumontDUrville':36000,'Antarctica/Macquarie':39600,'Antarctica/Mawson':18000,'Antarctica/McMurdo':43200,'Antarctica/Palmer':-10800,'Antarctica/Rothera':-10800,'Antarctica/South_Pole':43200,'Antarctica/Syowa':10800,'Antarctica/Troll':0,'Antarctica/Vostok':21600,'Arctic/Longyearbyen':3600,'Asia/Aden':10800,'Asia/Almaty':21600,'Asia/Amman':7200,'Asia/Anadyr':43200,'Asia/Aqtau':18000,'Asia/Aqtobe':18000,'Asia/Ashgabat':18000,'Asia/Ashkhabad':18000,'Asia/Baghdad':10800,'Asia/Bahrain':10800,'Asia/Baku':14400,'Asia/Bangkok':25200,'Asia/Beirut':7200,'Asia/Bishkek':21600,'Asia/Brunei':28800,'Asia/Calcutta':19800,'Asia/Chita':28800,'Asia/Choibalsan':28800,'Asia/Chongqing':28800,'Asia/Chungking':28800,'Asia/Colombo':19800,'Asia/Dacca':21600,\n",
    "'Asia/Damascus':7200,'Asia/Dhaka':21600,'Asia/Dili':32400,'Asia/Dubai':14400,'Asia/Dushanbe':18000,'Asia/Gaza':7200,'Asia/Harbin':28800,'Asia/Hebron':7200,'Asia/Ho_Chi_Minh':25200,'Asia/Hong_Kong':28800,'Asia/Hovd':25200,'Asia/Irkutsk':28800,'Asia/Istanbul':7200,'Asia/Jakarta':25200,'Asia/Jayapura':32400,'Asia/Jerusalem':7200,'Asia/Kabul':16200,'Asia/Kamchatka':43200,'Asia/Karachi':18000,'Asia/Kashgar':21600,'Asia/Kathmandu':20700,'Asia/Katmandu':20700,'Asia/Khandyga':32400,'Asia/Kolkata':19800,'Asia/Krasnoyarsk':25200,'Asia/Kuala_Lumpur':28800,'Asia/Kuching':28800,'Asia/Kuwait':10800,'Asia/Macao':28800,'Asia/Macau':28800,'Asia/Magadan':36000,'Asia/Makassar':28800,'Asia/Manila':28800,'Asia/Muscat':14400,'Asia/Nicosia':7200,'Asia/Novokuznetsk':25200,'Asia/Novosibirsk':21600,'Asia/Omsk':21600,'Asia/Oral':18000,'Asia/Phnom_Penh':25200,'Asia/Pontianak':25200,'Asia/Pyongyang':30600,'Asia/Qatar':10800,'Asia/Qyzylorda':21600,'Asia/Rangoon':23400,'Asia/Riyadh':10800,'Asia/Riyadh87':10800,'Asia/Riyadh88':10800,'Asia/Riyadh89':10800,'Asia/Saigon':25200,'Asia/Sakhalin':36000,\n",
    "'Asia/Samarkand':18000,'Asia/Seoul':32400,'Asia/Shanghai':28800,'Asia/Singapore':28800,'Asia/Srednekolymsk':39600,'Asia/Taipei':28800,'Asia/Tashkent':18000,'Asia/Tbilisi':14400,'Asia/Tehran':12600,'Asia/Tel_Aviv':7200,'Asia/Thimbu':21600,'Asia/Thimphu':21600,'Asia/Tokyo':32400,'Asia/Ujung_Pandang':28800,'Asia/Ulaanbaatar':28800,'Asia/Ulan_Bator':28800,'Asia/Urumqi':21600,'Asia/Vientiane':25200,'Asia/Vladivostok':36000,'Asia/Yakutsk':32400,'Asia/Yekaterinburg':18000,'Asia/Yerevan':14400,'Atlantic/Azores':-3600,'Atlantic/Bermuda':-14400,'Atlantic/Canary':0,'Atlantic/Cape_Verde':-3600,'Atlantic/Faeroe':0,'Atlantic/Faroe':0,'Atlantic/Jan_Mayen':3600,'Atlantic/Madeira':0,'Atlantic/Reykjavik':0,'Atlantic/South_Georgia':-7200,'Atlantic/St_Helena':0,'Atlantic/Stanley':-10800,'Australia/ACT':36000,'Australia/Adelaide':34200,'Australia/Brisbane':36000,'Australia/Broken_Hill':34200,'Australia/Canberra':36000,'Australia/Currie':36000,'Australia/Darwin':34200,'Australia/Eucla':31500,'Australia/Hobart':36000,'Australia/LHI':37800,'Australia/Lindeman':36000,'Australia/Lord_Howe':37800,'Australia/Melbourne':36000,'Australia/NSW':36000,'Australia/North':34200,'Australia/Perth':28800,'Australia/Queensland':36000,\n",
    "'Australia/South':34200,'Australia/Sydney':36000,'Australia/Tasmania':36000,'Australia/Victoria':36000,'Australia/West':28800,'Australia/Yancowinna':34200,'Brazil/Acre':-18000,'Brazil/DeNoronha':-7200,'Brazil/East':-10800,'Brazil/West':-14400,'CET':3600,'CST6CDT':-21600,'Canada/Atlantic':-14400,'Canada/Central':-21600,'Canada/East-Saskatchewan':-21600,'Canada/Eastern':-18000,'Canada/Mountain':-25200,'Canada/Newfoundland':-12600,'Canada/Pacific':-28800,'Canada/Saskatchewan':-21600,'Canada/Yukon':-28800,'Chile/Continental':-10800,'Chile/EasterIsland':-18000,'Cuba':-18000,'EET':7200,'EST':-18000,'EST5EDT':-18000,'Egypt':7200,'Eire':0,'Etc/GMT':0,'Etc/GMT+0':0,'Etc/GMT+1':-3600,'Etc/GMT+10':-36000,'Etc/GMT+11':-39600,'Etc/GMT+12':-43200,'Etc/GMT+2':-7200,'Etc/GMT+3':-10800,'Etc/GMT+4':-14400,'Etc/GMT+5':-18000,'Etc/GMT+6':-21600,'Etc/GMT+7':-25200,'Etc/GMT+8':-28800,'Etc/GMT+9':-32400,'Etc/GMT-0':0,'Etc/GMT-1':3600,'Etc/GMT-10':36000,'Etc/GMT-11':39600,'Etc/GMT-12':43200,'Etc/GMT-13':46800,'Etc/GMT-14':50400,'Etc/GMT-2':7200,'Etc/GMT-3':10800,'Etc/GMT-4':14400,'Etc/GMT-5':18000,'Etc/GMT-6':21600,'Etc/GMT-7':25200,'Etc/GMT-8':28800,'Etc/GMT-9':32400,'Etc/GMT0':0,'Etc/Greenwich':0,'Etc/UCT':0,'Etc/UTC':0,'Etc/Universal':0,\n",
    "'Etc/Zulu':0,'Europe/Amsterdam':3600,'Europe/Andorra':3600,'Europe/Athens':7200,'Europe/Belfast':0,'Europe/Belgrade':3600,'Europe/Berlin':3600,'Europe/Bratislava':3600,'Europe/Brussels':3600,'Europe/Bucharest':7200,'Europe/Budapest':3600,'Europe/Busingen':3600,'Europe/Chisinau':7200,'Europe/Copenhagen':3600,'Europe/Dublin':0, 'Europe/Gibraltar':3600,'Europe/Guernsey':0,'Europe/Helsinki':7200,'Europe/Isle_of_Man':0,'Europe/Istanbul':7200,'Europe/Jersey':0,'Europe/Kaliningrad':7200,'Europe/Kiev':7200,'Europe/Lisbon':0,'Europe/Ljubljana':3600,'Europe/London':0,'Europe/Luxembourg':3600,'Europe/Madrid':3600,'Europe/Malta':3600,'Europe/Mariehamn':7200,'Europe/Minsk':10800,'Europe/Monaco':3600,'Europe/Moscow':10800,'Europe/Nicosia':7200,'Europe/Oslo':3600,'Europe/Paris':3600,'Europe/Podgorica':3600,'Europe/Prague':3600,'Europe/Riga':7200,'Europe/Rome':3600,'Europe/Samara':14400,'Europe/San_Marino':3600,'Europe/Sarajevo':3600,'Europe/Simferopol':7200,'Europe/Skopje':3600,'Europe/Sofia':7200,'Europe/Stockholm':3600,\n",
    "'Europe/Tallinn':7200,'Europe/Tirane':3600,'Europe/Tiraspol':7200,'Europe/Uzhgorod':7200,'Europe/Vaduz':3600,'Europe/Vatican':3600,'Europe/Vienna':3600,'Europe/Vilnius':7200,'Europe/Volgograd':10800,'Europe/Warsaw':3600,'Europe/Zagreb':3600,'Europe/Zaporozhye':7200,'Europe/Zurich':3600,'Factory':0,'GB':0,'GB-Eire':0,'GMT':0,'GMT+0':0,'GMT-0':0,'GMT0':0,'Greenwich':0,'HST':-36000,'Hongkong':28800,'Iceland':0,'Indian/Antananarivo':10800,'Indian/Chagos':21600,'Indian/Christmas':25200,'Indian/Cocos':23400,'Indian/Comoro':10800,'Indian/Kerguelen':18000,'Indian/Mahe':14400,'Indian/Maldives':18000,'Indian/Mauritius':14400,'Indian/Mayotte':10800,'Indian/Reunion':14400,\n",
    "'Iran':12600,'Israel':7200,'Jamaica':-18000,'Japan':32400,'Kwajalein':43200,'Libya':7200,'MET':3600,'MST':-25200,'MST7MDT':-25200,'Mexico/BajaNorte':-28800,'Mexico/BajaSur':-25200,'Mexico/General':-21600,'Mideast/Riyadh87':0,'Mideast/Riyadh88':0,'Mideast/Riyadh89':0,'NZ':43200,'NZ-CHAT':45900,'Navajo':0,'PRC':0,'PST8PDT':0,'Pacific/Apia':46800,'Pacific/Auckland':43200,'Pacific/Bougainville':39600,'Pacific/Chatham':45900,'Pacific/Chuuk':36000,'Pacific/Easter':-18000,'Pacific/Efate':39600,'Pacific/Enderbury':46800,'Pacific/Fakaofo':46800,'Pacific/Fiji':43200,'Pacific/Funafuti':43200,'Pacific/Galapagos':-21600,'Pacific/Gambier':-32400,'Pacific/Guadalcanal':39600,'Pacific/Guam':36000,'Pacific/Honolulu':-36000,'Pacific/Johnston':-36000,'Pacific/Kiritimati':50400,'Pacific/Kosrae':39600,'Pacific/Kwajalein':43200,'Pacific/Majuro':43200,'Pacific/Marquesas':-34200,'Pacific/Midway':-39600,'Pacific/Nauru':43200,\n",
    "'Pacific/Niue':-39600,'Pacific/Norfolk':39600,'Pacific/Noumea':39600,'Pacific/Pago_Pago':-39600,'Pacific/Palau':32400,'Pacific/Pitcairn':-28800,'Pacific/Ponape':39600,'Pacific/Port_Moresby':36000,'Pacific/Rarotonga':-36000,'Pacific/Saipan':36000,'Pacific/Samoa':-39600,'Pacific/Tahiti':-36000,\n",
    "'Pacific/Tarawa':43200,'Pacific/Tongatapu':46800,'Pacific/Truk':36000,'Pacific/Wake':43200,'Pacific/Wallis':43200,'Pacific/Yap':36000,'Poland':3600,'Portugal':0,'ROC':28800,'ROK':32400,'Singapore':28800,'Turkey':7200,'UCT':0,'US/Alaska':-32400,'US/Aleutian':-36000,'US/Arizona':-25200,'US/Central':-21600,'US/East-Indiana':-18000,'US/Eastern':-18000,'US/Hawaii':-36000,'US/Indiana-Starke':-21600,'US/Michigan':-18000,'US/Mountain':-25200,'US/Pacific':-28800,'US/Pacific-New':-28800,'US/Samoa':-39600,'UTC':0,'Universal':0,'W-SU':10800,'WET':0,'Zulu':0}"
   ]
  },
  {
   "cell_type": "code",
   "execution_count": 8,
   "id": "71fc4a25",
   "metadata": {},
   "outputs": [],
   "source": [
    "countryList = list(countryDict.keys())\n"
   ]
  },
  {
   "cell_type": "code",
   "execution_count": null,
   "id": "c8003006",
   "metadata": {},
   "outputs": [],
   "source": []
  },
  {
   "cell_type": "markdown",
   "id": "e746f27c",
   "metadata": {},
   "source": [
    "# TIME  CONVERTER BY COUNTRY"
   ]
  },
  {
   "cell_type": "code",
   "execution_count": 9,
   "id": "6a11c762",
   "metadata": {
    "scrolled": true
   },
   "outputs": [
    {
     "name": "stdout",
     "output_type": "stream",
     "text": [
      "provide the date you want to convert in this format; YYYY, MM, DD, HH, mm: 2022, 11, 09, 09, 00\n"
     ]
    },
    {
     "data": {
      "application/vnd.jupyter.widget-view+json": {
       "model_id": "db07661a36bc4d2c98074caf95d6ea69",
       "version_major": 2,
       "version_minor": 0
      },
      "text/plain": [
       "Label(value='Please select the country you are converting from:')"
      ]
     },
     "metadata": {},
     "output_type": "display_data"
    },
    {
     "data": {
      "application/vnd.jupyter.widget-view+json": {
       "model_id": "9976ad820ee14e20a02587bf9503e930",
       "version_major": 2,
       "version_minor": 0
      },
      "text/plain": [
       "Dropdown(options=('Africa/Abidjan', 'Africa/Accra', 'Africa/Addis_Ababa', 'Africa/Algiers', 'Africa/Asmara', '…"
      ]
     },
     "metadata": {},
     "output_type": "display_data"
    },
    {
     "data": {
      "application/vnd.jupyter.widget-view+json": {
       "model_id": "14d12c2d35594fac825368c68b40a86d",
       "version_major": 2,
       "version_minor": 0
      },
      "text/plain": [
       "Label(value='Please select the country you are converting to:')"
      ]
     },
     "metadata": {},
     "output_type": "display_data"
    },
    {
     "data": {
      "application/vnd.jupyter.widget-view+json": {
       "model_id": "a19acbed84914f24826671b2fcadf7b1",
       "version_major": 2,
       "version_minor": 0
      },
      "text/plain": [
       "Dropdown(options=('Africa/Abidjan', 'Africa/Accra', 'Africa/Addis_Ababa', 'Africa/Algiers', 'Africa/Asmara', '…"
      ]
     },
     "metadata": {},
     "output_type": "display_data"
    },
    {
     "data": {
      "application/vnd.jupyter.widget-view+json": {
       "model_id": "1ebc98d7fa7a4ecda486f4eec4121c8f",
       "version_major": 2,
       "version_minor": 0
      },
      "text/plain": [
       "Label(value='')"
      ]
     },
     "metadata": {},
     "output_type": "display_data"
    },
    {
     "data": {
      "application/vnd.jupyter.widget-view+json": {
       "model_id": "edf1ef43d1b7412d90af00a69252e604",
       "version_major": 2,
       "version_minor": 0
      },
      "text/plain": [
       "Button(description='convert', style=ButtonStyle())"
      ]
     },
     "metadata": {},
     "output_type": "display_data"
    },
    {
     "name": "stdout",
     "output_type": "stream",
     "text": [
      "the equivalent time of 2022-11-09 09:00:00 Africa/Bujumbura is 2022-11-09 08:00:00 Africa/Ceuta\n"
     ]
    }
   ],
   "source": [
    "def timeConverter(sourceCountry, tgtCountry, timetoConvert):\n",
    "    \n",
    "    if sourceCountry in list(countryDict.keys()) and tgtCountry in list(countryDict.keys()):\n",
    "        timeEquiv = int(countryDict[sourceCountry])\n",
    "        offsetX = timeEquiv/3600\n",
    "        centralEquiv = timetoConvert - pd.DateOffset(hours= offsetX)\n",
    "        offsetY = countryDict[tgtCountry]/3600\n",
    "        desiredTz = centralEquiv + pd.DateOffset(hours= offsetY)\n",
    "        \n",
    "        return desiredTz\n",
    "\n",
    "timetoConvert = getDate()\n",
    " \n",
    "\n",
    "lbl3 = widgets.Label('Please select the country you are converting from:')\n",
    "display(lbl3)\n",
    "sourceCountry = widgets.Dropdown(\n",
    " options=countryList,\n",
    " #options=['1', '2', '3'],\n",
    " value='Africa/Abidjan',\n",
    " description='',\n",
    " disabled=False,\n",
    ")\n",
    "display(sourceCountry)\n",
    "\n",
    "lbl4 = widgets.Label('Please select the country you are converting to:')\n",
    "display(lbl4)\n",
    "tgtCountry = widgets.Dropdown(\n",
    " options=countryList,\n",
    " #options=['1', '2', '3'],\n",
    " value='Africa/Abidjan',\n",
    " description='',\n",
    " disabled=False,\n",
    ")\n",
    "display(tgtCountry)\n",
    "\n",
    "lblBlank = widgets.Label()\n",
    "display(lblBlank)\n",
    "btn = widgets.Button(description='convert')\n",
    "display(btn)\n",
    "def pp(b):\n",
    "    convertTime =  timeConverter(sourceCountry.value, tgtCountry.value, timetoConvert)\n",
    "    print(f'the equivalent time of {timetoConvert} {sourceCountry.value} is {convertTime} {tgtCountry.value}')\n",
    " \n",
    " \n",
    "btn.on_click(pp)"
   ]
  },
  {
   "cell_type": "markdown",
   "id": "66884e9b",
   "metadata": {},
   "source": [
    "# BOOTCAMP SCHEDULE LIST"
   ]
  },
  {
   "cell_type": "code",
   "execution_count": 12,
   "id": "bd10705a",
   "metadata": {},
   "outputs": [],
   "source": [
    "yearList = ['2022','2022', '2022', '2022', '2022', '2022', '2022', '2022', '2022', '2022', '2022', '2022', '2022', \n",
    "'2022', '2022', '2022', '2022', '2022', '2022', '2022', '2022', '2022', '2022','2022', '2022', '2022', '2022', '2022']\n",
    "\n",
    "dateList = ['7-Jul', '8-Jul', '7-Jul', '8-Jul', '21-Jul', '21-Jul', '22-Jul', '22-Jul', '4-Aug', '4-Aug', '5-Aug', '5-Aug', \n",
    "'18-Aug', '18-Aug','19-Aug','19-Aug', '1-Sep', '1-Sep', '2-Sep', '2-Sep', '15-Sep', '15-Sep', '16-Sep', '16-Sep', '29-Sep', \n",
    "'29-Sep','30-Sep','30-Sep']\n",
    "\n",
    "timeList =[ '6:00','10:00','6:00','10:00','6:00','10:00','6:00','10:00', '6:00', '10:00', '6:00', '10:00','6:00', '10:00', \n",
    "'6:00 ','10:00', '6:00 ', '10:00 ', '6:00' , '10:00','6:00','10:00', '6:00', '10:00', '6:00', '10:00', '6:00', '10:00 ']\n",
    "\n",
    "cohortList = ['Cohort 14', 'Cohort 15', 'Cohort 14','Cohort 15', 'Cohort 14', 'Cohort 15', 'Cohort 14','Cohort 15', 'Cohort 14',\n",
    "'Cohort 15', 'Cohort 14', 'Cohort 15', 'Cohort 14', 'Cohort 15', 'Cohort 14', 'Cohort 15', 'Cohort 14', 'Cohort 15','Cohort 14',\n",
    "'Cohort 15', 'Cohort 14', 'Cohort 15', 'Cohort 14', 'Cohort 15', 'Cohort 14', 'Cohort 15', 'Cohort 14', 'Cohort 15']\n",
    "\n",
    "programList = ['Data Analytics', 'Data Science/ML', 'Data Science/ML', 'Data Analytics', 'Data Analytics', 'Data Science/ML',\n",
    "'Data Science/ML', 'Data Analytics', 'Data Analytics', 'Data Science/ML', 'Data Science/ML', 'Data Analytics', 'Data Analytics',\n",
    "'Data Science/ML', 'Data Science/ML', 'Data Analytics', 'Data Analytics', 'Data Science/ML', 'Data Science/ML', \n",
    "'Data Analytics', 'Data Analytics', 'Data Science/ML', 'Data Science/ML', 'Data Analytics', 'Data Analytics','Data Science/ML',\n",
    "'Data Science/ML', 'Data Analytics']\n",
    "\n",
    "topicList = ['Python Variables', 'Data Cleaning', 'Python Variables', 'Data Visualization Project 1', 'Python Container',\n",
    "'Data Transformation', 'Python Container', 'Data Visualization Project 2', 'Python Container II', 'Data Transformation II',\n",
    "'Python Container II', 'Data Visualization Project 3', 'Python Functions', 'Feature Selection', 'Python Functions',\n",
    "'Data Visualization Project 4', 'Python Functions', 'Feature Selection II', 'Python Functions II','Data Visualization Project 5',\n",
    "'Python  Pandas I', 'Supervised Learning Intro', 'Python Pandas I', 'Data Visualization Project 6', 'Python Pandas II',\n",
    "'Unsupervised Learning Intro', 'Python Pandas II', 'Data Visualization Project 7']"
   ]
  },
  {
   "cell_type": "markdown",
   "id": "2c8e9b97",
   "metadata": {},
   "source": [
    "# GENERATE YOUR BOOTCAMP SCHEDULE "
   ]
  },
  {
   "cell_type": "code",
   "execution_count": 15,
   "id": "349ce8b5",
   "metadata": {},
   "outputs": [
    {
     "name": "stdout",
     "output_type": "stream",
     "text": [
      "input your name: Adetola\n",
      "********************************************************************************************\n",
      "Which program did you enrol for ?(ex. Data Analytics): Data Analytics\n",
      "********************************************************************************************\n",
      "Which Cohort do you belong? (eg. Cohort 14): Cohort 15\n",
      "********************************************************************************************\n",
      "what is your country time zone? (eg. West Africa Time): West Africa Time\n",
      "********************************************************************************************\n",
      "Hi Adetola, Here is your schedule for Data Analytics Cohort 15\n",
      "********************************************************************************************\n",
      " 2022-07-08 10:00:00 EST | Data Visualization Project 1| local time is 2022-07-08 16:00:00 West Africa Time\n",
      " 2022-07-22 10:00:00 EST | Data Visualization Project 2| local time is 2022-07-22 16:00:00 West Africa Time\n",
      " 2022-08-05 10:00:00 EST | Data Visualization Project 3| local time is 2022-08-05 16:00:00 West Africa Time\n",
      " 2022-08-19 10:00:00 EST | Data Visualization Project 4| local time is 2022-08-19 16:00:00 West Africa Time\n",
      " 2022-09-02 10:00:00 EST | Data Visualization Project 5| local time is 2022-09-02 16:00:00 West Africa Time\n",
      " 2022-09-16 10:00:00 EST | Data Visualization Project 6| local time is 2022-09-16 16:00:00 West Africa Time\n",
      " 2022-09-30 10:00:00 EST | Data Visualization Project 7| local time is 2022-09-30 16:00:00 West Africa Time\n"
     ]
    }
   ],
   "source": [
    "#lbl5 = widgets.Label('Please select your country')\n",
    "#display(lbl5)\n",
    "#country = widgets.Dropdown(options=countryList, value='Africa/Abidjan', description='', disabled=False,)\n",
    "#display(country)\n",
    "\n",
    "name = input('input your name: ')\n",
    "print ('********************************************************************************************')\n",
    "program = input('Which program did you enrol for ?(ex. Data Analytics): ')\n",
    "print ('********************************************************************************************')\n",
    "cohort = input ('Which Cohort do you belong? (eg. Cohort 14): ')\n",
    "print ('********************************************************************************************')\n",
    "timeZone = input ('what is your country time zone? (eg. West Africa Time): ')\n",
    "print ('********************************************************************************************')\n",
    "print (f\"Hi {name}, Here is your schedule for {program} {cohort}\")\n",
    "print ('********************************************************************************************')\n",
    "x = program\n",
    "y = cohort\n",
    "for m, dte,t,cohort,prog, topic in zip(yearList,dateList,timeList,cohortList,programList,topicList):\n",
    "    if prog == x and cohort == y:\n",
    "        Tim = (f\"{dte} {m} {t} \")\n",
    "        Time =  pd.to_datetime(Tim, format='%d-%b %Y %H:%M ')\n",
    "        univTime = Time - pd.DateOffset(hours= -5)\n",
    "        localTime = univTime + pd.DateOffset(hours= tz[timeZone])\n",
    "        #countrylocalTime = univTime + pd.DateOffset(hours= countryDict[country.value]/3600)\n",
    "        print(f\" {Time} EST | {topic}| local time is {localTime} {timeZone}\")"
   ]
  },
  {
   "cell_type": "markdown",
   "id": "17fe7cd9",
   "metadata": {},
   "source": [
    "# GENERATING ALERT / NOTIFICATION FOR BOOT CAMP"
   ]
  },
  {
   "cell_type": "code",
   "execution_count": 16,
   "id": "8b60d894",
   "metadata": {
    "scrolled": true
   },
   "outputs": [
    {
     "name": "stdout",
     "output_type": "stream",
     "text": [
      "2022-08-01 21:33:02.528007\n"
     ]
    }
   ],
   "source": [
    "currentTime = currTimeLong()\n",
    "print(currentTime)"
   ]
  },
  {
   "cell_type": "code",
   "execution_count": 17,
   "id": "778ba8c2",
   "metadata": {},
   "outputs": [
    {
     "data": {
      "text/plain": [
       "Timestamp('2022-09-30 10:00:00')"
      ]
     },
     "execution_count": 17,
     "metadata": {},
     "output_type": "execute_result"
    }
   ],
   "source": [
    "bootcampTime = Time \n",
    "bootcampTime"
   ]
  },
  {
   "cell_type": "code",
   "execution_count": 18,
   "id": "a72cfa57",
   "metadata": {
    "scrolled": true
   },
   "outputs": [
    {
     "data": {
      "text/plain": [
       "Timedelta('59 days 12:26:57.471993')"
      ]
     },
     "execution_count": 18,
     "metadata": {},
     "output_type": "execute_result"
    }
   ],
   "source": [
    "time_diff = bootcampTime - currentTime\n",
    "time_diff"
   ]
  },
  {
   "cell_type": "code",
   "execution_count": 19,
   "id": "a5e97de7",
   "metadata": {},
   "outputs": [
    {
     "data": {
      "text/plain": [
       "1428"
      ]
     },
     "execution_count": 19,
     "metadata": {},
     "output_type": "execute_result"
    }
   ],
   "source": [
    "tdays = time_diff.days # get time difference in days\n",
    "tsecs = time_diff.total_seconds() # get time difference in seconds\n",
    "thrs = int(tsecs/(60*60))\n",
    "thrs"
   ]
  },
  {
   "cell_type": "code",
   "execution_count": 20,
   "id": "01574c7e",
   "metadata": {},
   "outputs": [],
   "source": [
    "if thrs > 0 and thrs <= 24   :\n",
    "    root = tkinter.Tk()\n",
    "    root.withdraw()\n",
    "\n",
    "    messagebox.showinfo(\"Hello!\", \"Your bootcamp session is in {thrs} \")\n",
    "    winsound.PlaySound(\"SystemExclamation\", winsound.SND_ALIAS)"
   ]
  },
  {
   "cell_type": "code",
   "execution_count": null,
   "id": "f36671b5",
   "metadata": {},
   "outputs": [],
   "source": []
  }
 ],
 "metadata": {
  "kernelspec": {
   "display_name": "Python 3 (ipykernel)",
   "language": "python",
   "name": "python3"
  },
  "language_info": {
   "codemirror_mode": {
    "name": "ipython",
    "version": 3
   },
   "file_extension": ".py",
   "mimetype": "text/x-python",
   "name": "python",
   "nbconvert_exporter": "python",
   "pygments_lexer": "ipython3",
   "version": "3.9.7"
  }
 },
 "nbformat": 4,
 "nbformat_minor": 5
}
